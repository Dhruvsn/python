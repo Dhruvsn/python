{
 "cells": [
  {
   "cell_type": "code",
   "execution_count": null,
   "id": "d70fa912-485a-4907-9d7d-6d6c5ef58144",
   "metadata": {},
   "outputs": [
    {
     "name": "stdout",
     "output_type": "stream",
     "text": [
      "\n",
      "1 - Login\n",
      "2 - Sign-up\n",
      "3 - Forgot Password\n",
      "4 - Exit\n"
     ]
    },
    {
     "name": "stdin",
     "output_type": "stream",
     "text": [
      "Enter your choice:  1\n",
      "Enter your User Name or Email ::  gunisha\n",
      "Enter your password ::  0000\n"
     ]
    },
    {
     "name": "stdout",
     "output_type": "stream",
     "text": [
      "Invalid Email or password.\n",
      "\n",
      "1 - Login\n",
      "2 - Sign-up\n",
      "3 - Forgot Password\n",
      "4 - Exit\n"
     ]
    },
    {
     "name": "stdin",
     "output_type": "stream",
     "text": [
      "Enter your choice:  2\n",
      "Enter Your User Name ::  guni\n",
      "Enter Your Email ::  guni\n",
      "Enter Your Password ::  000\n"
     ]
    },
    {
     "name": "stdout",
     "output_type": "stream",
     "text": [
      "User registered successfully!\n",
      "\n",
      "1 - Login\n",
      "2 - Sign-up\n",
      "3 - Forgot Password\n",
      "4 - Exit\n"
     ]
    },
    {
     "name": "stdin",
     "output_type": "stream",
     "text": [
      "Enter your choice:  1\n",
      "Enter your User Name or Email ::  guni\n",
      "Enter your password ::  000\n"
     ]
    },
    {
     "name": "stdout",
     "output_type": "stream",
     "text": [
      "Login successful! Welcome guni.\n",
      "\n",
      "1 - Login\n",
      "2 - Sign-up\n",
      "3 - Forgot Password\n",
      "4 - Exit\n"
     ]
    },
    {
     "name": "stdin",
     "output_type": "stream",
     "text": [
      "Enter your choice:  3\n",
      "Enter your User Name or Email Address ::  guni\n"
     ]
    },
    {
     "name": "stdout",
     "output_type": "stream",
     "text": [
      "Verification code sent to guni: 897484\n"
     ]
    },
    {
     "name": "stdin",
     "output_type": "stream",
     "text": [
      "Enter the verification code sent to your email:  897484'\n"
     ]
    },
    {
     "name": "stdout",
     "output_type": "stream",
     "text": [
      "Invalid verification code. Password reset failed.\n",
      "\n",
      "1 - Login\n",
      "2 - Sign-up\n",
      "3 - Forgot Password\n",
      "4 - Exit\n"
     ]
    }
   ],
   "source": [
    "import random\n",
    "\n",
    "class Reg_and_Login:\n",
    "    def __init__(self, UserName='', UserEmail='', UserPass=''):\n",
    "        self.UserName = UserName\n",
    "        self.UserEmail = UserEmail\n",
    "        self.UserPass = UserPass\n",
    "\n",
    "    def signUP(self):\n",
    "        self.UserName = input(\"Enter Your User Name :: \")\n",
    "        self.UserEmail = input(\"Enter Your Email :: \")\n",
    "        self.UserPass = input(\"Enter Your Password :: \")\n",
    "\n",
    "        try:\n",
    "            with open('data.txt', 'a') as file:\n",
    "                file.write(f\"{self.UserName},{self.UserEmail},{self.UserPass}\\n\")\n",
    "            print(\"User registered successfully!\")\n",
    "        except Exception as e:\n",
    "            print(f'An error occurred during registration: {e}')\n",
    "\n",
    "    def login(self):\n",
    "        input_user = input(\"Enter your User Name or Email :: \")\n",
    "        input_pass = input(\"Enter your password :: \")\n",
    "\n",
    "        try:\n",
    "            with open('data.txt', 'r') as file:\n",
    "                users = file.readlines()\n",
    "                for user in users:\n",
    "                    user_name, user_email, user_pass = user.strip().split(',')\n",
    "                    if (input_user == user_email or input_user == user_name) and input_pass == user_pass:\n",
    "                        print(f\"Login successful! Welcome {user_name}.\")\n",
    "                        return True\n",
    "                print(\"Invalid Email or password.\")\n",
    "                return False\n",
    "        except FileNotFoundError:\n",
    "            print(\"No registered users. Please sign up first.\")\n",
    "        except Exception as e:\n",
    "            print(f'An error occurred during login: {e}')\n",
    "\n",
    "    def send_verification_code(self, user_email):\n",
    "        # Simulate sending a verification code (in a real application, send an actual email)\n",
    "        verification_code = random.randint(100000, 999999)  # Generate a random 6-digit code\n",
    "        print(f\"Verification code sent to {user_email}: {verification_code}\")\n",
    "        return verification_code\n",
    "\n",
    "    def ForgetPass(self):\n",
    "        input_user = input(\"Enter your User Name or Email Address :: \")\n",
    "        try:\n",
    "            with open('data.txt', 'r') as file:\n",
    "                users = file.readlines()\n",
    "                found = False  # Flag to check if user is found\n",
    "                for user in users:\n",
    "                    user_name, user_email, user_pass = user.strip().split(',')\n",
    "                    if input_user == user_name or input_user == user_email:\n",
    "                        found = True  # User found\n",
    "                        verification_code = self.send_verification_code(user_email)  # Send verification code\n",
    "                        user_input_code = input(\"Enter the verification code sent to your email: \")\n",
    "                        if user_input_code == str(verification_code):\n",
    "                            new_pass = input(\"Enter New Password: \")\n",
    "                            # Update the user's password in the list\n",
    "                            updated_user = f\"{user_name},{user_email},{new_pass}\\n\"\n",
    "                            # Rewrite the file with the updated user list\n",
    "                            with open('data.txt', 'w') as file_write:\n",
    "                                file_write.writelines(updated_user if u.strip().split(',')[0] == user_name else u for u in users)\n",
    "                            print(\"Password reset successfully!\")\n",
    "                        else:\n",
    "                            print(\"Invalid verification code. Password reset failed.\")\n",
    "                        break  # Exit loop after processing\n",
    "                if not found:\n",
    "                    print(\"User not found...!\")\n",
    "        except Exception as e:\n",
    "            print(f'An error occurred during password reset: {e}')\n",
    "\n",
    "    def display(self):\n",
    "        print(\"\\n1 - Login\")\n",
    "        print(\"2 - Sign-up\")\n",
    "        print(\"3 - Forgot Password\")\n",
    "        print(\"4 - Exit\")\n",
    "        choice = input(\"Enter your choice: \")\n",
    "\n",
    "        match choice:\n",
    "            case '1':\n",
    "                self.login()\n",
    "            case '2':\n",
    "                self.signUP()\n",
    "            case '3':\n",
    "                self.ForgetPass()\n",
    "            case '4':\n",
    "                print(\"Exiting...\")\n",
    "                return  # Exit the display method\n",
    "            case _:\n",
    "                print(\"Invalid choice...!\")\n",
    "\n",
    "if __name__ == \"__main__\":\n",
    "    user = Reg_and_Login()\n",
    "    while True:  # Allow the user to perform multiple actions until they choose to exit\n",
    "        user.display()\n"
   ]
  },
  {
   "cell_type": "code",
   "execution_count": null,
   "id": "5fd7c169-303c-4a35-b887-1123299798c7",
   "metadata": {},
   "outputs": [],
   "source": []
  }
 ],
 "metadata": {
  "kernelspec": {
   "display_name": "Python 3 (ipykernel)",
   "language": "python",
   "name": "python3"
  },
  "language_info": {
   "codemirror_mode": {
    "name": "ipython",
    "version": 3
   },
   "file_extension": ".py",
   "mimetype": "text/x-python",
   "name": "python",
   "nbconvert_exporter": "python",
   "pygments_lexer": "ipython3",
   "version": "3.12.4"
  }
 },
 "nbformat": 4,
 "nbformat_minor": 5
}
